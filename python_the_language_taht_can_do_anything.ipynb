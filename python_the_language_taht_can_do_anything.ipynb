{
 "cells": [
  {
   "cell_type": "markdown",
   "id": "b94dde21",
   "metadata": {
    "slideshow": {
     "slide_type": "slide"
    }
   },
   "source": [
    "# Python - The Language That Can Do Anything\n",
    "\n",
    "Intro to Python programming language for non-pythoners."
   ]
  },
  {
   "cell_type": "markdown",
   "id": "36cc219a",
   "metadata": {
    "slideshow": {
     "slide_type": "slide"
    }
   },
   "source": [
    "Some programming languages are just overcomplicated.\n",
    "\n",
    "Here is a simple \"hello, world\" program in Java for example:\n",
    "\n",
    "\n",
    "```java\n",
    "public class HelloWorld {\n",
    "    private static HelloWorld instance;\n",
    "    private String greeting = \"Hello, World!\";\n",
    "\n",
    "    private HelloWorld() { }\n",
    "\n",
    "    public static HelloWorld getInstance() {\n",
    "        if (instance == null) {\n",
    "            instance = new HelloWorld();\n",
    "        }\n",
    "        return instance;\n",
    "    }\n",
    "\n",
    "    public void sayHello() {\n",
    "        System.out.println(greeting);\n",
    "    }\n",
    "\n",
    "    public static void main(String[] args) {\n",
    "        HelloWorld hw = HelloWorld.getInstance();\n",
    "        hw.sayHello();\n",
    "    }\n",
    "}\n",
    "```\n"
   ]
  },
  {
   "cell_type": "markdown",
   "id": "d0e89f42",
   "metadata": {
    "slideshow": {
     "slide_type": "subslide"
    }
   },
   "source": [
    "Javascript is even worse:\n",
    "\n",
    "```js\n",
    "class HelloWorld {\n",
    "  constructor() {\n",
    "    this.greeting = 'Hello, World!';\n",
    "  }\n",
    "\n",
    "  sayHello() {\n",
    "    console.log(this.greeting);\n",
    "  }\n",
    "}\n",
    "\n",
    "class HelloWorldFactory {\n",
    "  constructor() {\n",
    "    this.instance = null;\n",
    "  }\n",
    "\n",
    "  createHelloWorld() {\n",
    "    if (!this.instance) {\n",
    "      this.instance = new HelloWorld();\n",
    "    }\n",
    "    return this.instance;\n",
    "  }\n",
    "}\n",
    "\n",
    "const factory = new HelloWorldFactory();\n",
    "const hw = factory.createHelloWorld();\n",
    "hw.sayHello();\n",
    "```"
   ]
  },
  {
   "cell_type": "markdown",
   "id": "56292abc",
   "metadata": {
    "slideshow": {
     "slide_type": "subslide"
    }
   },
   "source": [
    "Plus with JS we have this:\n",
    "\n",
    "|left operand|operator|right operand|result|\n",
    "|------------|--------|-------------|------|\n",
    "|`[]` (empty array)|+|`[]` (empty array)|`\"\"` (empty string)|\n",
    "|`[]` (empty array)|+|`{}` (empty object)|`\"[object Object]\"` (string)|\n",
    "|`false` (boolean)|+|`[]` (empty array)|`\"false\"` (string)|\n",
    "|`\"123\"`(string)|+|`1` (number)|`\"1231\"` (string)|\n",
    "|`\"123\"` (string)|-|`1` (number)|`122` (number)|\n",
    "|`\"123\"` (string)|-|`\"abc\"` (string)|`NaN` (number)|\n",
    "\n",
    "Plus `{} + []` is `0` (empty code block and an empty array is obviously `0`), but when warpped in brackets, `({} + [])` then it is a string: `\"[object Object]\"`."
   ]
  },
  {
   "cell_type": "markdown",
   "id": "2f003d4d",
   "metadata": {
    "slideshow": {
     "slide_type": "slide"
    }
   },
   "source": [
    "## Python time!"
   ]
  },
  {
   "cell_type": "code",
   "execution_count": 1,
   "id": "948b3227",
   "metadata": {
    "slideshow": {
     "slide_type": "fragment"
    }
   },
   "outputs": [
    {
     "name": "stdout",
     "output_type": "stream",
     "text": [
      "Hello, World!\n"
     ]
    }
   ],
   "source": [
    "print(\"Hello, World!\")"
   ]
  },
  {
   "cell_type": "markdown",
   "id": "bd598e81",
   "metadata": {
    "slideshow": {
     "slide_type": "slide"
    }
   },
   "source": [
    "## Overview\n",
    "\n",
    "* Python is a general purpose, high level programming language, first released in 1991.\n",
    "* One of the most popular programming languages, currently #1 on TIOBE index.\n",
    "* Used in a wide variety of applications, including web development, scientific computing, data analysis, and artificial intelligence.\n",
    "* Used as a scripting language to automate tasks and as a glue language to connect different software components together.\n",
    "* Readability. Python code is designed to be easy to read and understand, using English keywords and minimal punctuation."
   ]
  },
  {
   "cell_type": "markdown",
   "id": "a67dcc5b",
   "metadata": {
    "slideshow": {
     "slide_type": "slide"
    }
   },
   "source": [
    "## Features\n",
    "\n",
    "* **Interpreted language** - it is ran by an interpreter, the source is not complied into a bytcode or machine code. Easier to write and debug, but it is a bit slower. However there are some python implementations which are supporting complinig and JIT such as PyPy, IronPython and Jython.\n",
    "* **Dynamic typing** - the variables have no fixed types and can hold any value. The types are determined by the interpreter at run time and a variable can change be re-assigned to hold a different type. Easier to write code, but harder to debug. Python from version 3.5 onwards supports type hinting, so it is possible to hint the types of the variables, however at run-time type hints are ignored.\n",
    "* **Built-in data types** -  a large set of simple and elegant high level data types to hold any kind of data.\n",
    "* **Large standard libary** -  the standard libary is large and comes with variery of packages and modules. Also, the satndard libary includes a powerful unit test framework.\n",
    "* **Variety of programming styles:** \n",
    "  * Object oriented style - the code is formed as a set of classes and methods in them, and the principles, such as encapsulation, inheritance, and polymorphism can be applied to the writtern classes.\n",
    "  * Functional style - every statement is a function. The `functools` module can be utilized to achive this style.\n",
    "  * Imperative style - treats the program as a set of instruction which are executed from top to bottom. Used mainly when python is used as a scripting language.\n",
    "  * Procedural style - the program is written as a set of methods which interact with each other. Used when there is no need to write complex structures.\n",
    "  "
   ]
  },
  {
   "cell_type": "markdown",
   "id": "778954b9",
   "metadata": {
    "slideshow": {
     "slide_type": "slide"
    }
   },
   "source": [
    "## Syntax and code syle\n",
    "\n",
    "The Python Enhancement Proposal 8 ([PEP-8](https://peps.python.org/pep-0008/)) gives a detailed guide how to format and write the code, and [PEP-20](https://peps.python.org/pep-0020/) describes the zen of Python.\n",
    "\n",
    "### Basics of the sytax\n",
    "\n",
    "* Coments are denoted by `#`\n",
    "* Indentation and puctation is used to indicate blocks of code.\n",
    "```python\n",
    "if x>2:\n",
    "    print(\"Big number\")\n",
    "```\n",
    "* Lines of code are terminated by the newline character. Multi line code is possible, then the last charecter in the line must be the backslash (`\\`) character.\n",
    "* Functions are defined with the `def` keyword:\n",
    "```python\n",
    "def add(x, y):\n",
    "    return x+y\n",
    "```\n",
    "* Classes are defined with the `class` keyword:\n",
    "```python\n",
    "class Person:\n",
    "    def __init__(self, name, age):\n",
    "        self.name = name\n",
    "        self.age = age\n",
    "```\n",
    "```python\n",
    "class Cannibal(Person):\n",
    "    def __init__(self, name, age):\n",
    "        super(name, age)\n",
    "        self.eats_human_flesh = True\n",
    "```"
   ]
  },
  {
   "cell_type": "markdown",
   "id": "ca4954f2",
   "metadata": {
    "slideshow": {
     "slide_type": "slide"
    }
   },
   "source": [
    "# Coding time\n",
    "\n",
    "Enough talking, let's see some examples!"
   ]
  },
  {
   "cell_type": "markdown",
   "id": "67cb0b13",
   "metadata": {
    "slideshow": {
     "slide_type": "slide"
    }
   },
   "source": [
    "## Simple classification problem\n",
    "\n",
    "Let's say we need to classify \n",
    "\n",
    "Let's see how we can use support vector machines to classify a dataset.\n",
    "\n",
    "### SVMs\n",
    "\n",
    "We're not going into the details what a SVM is."
   ]
  },
  {
   "cell_type": "code",
   "execution_count": 4,
   "id": "3a6d9b53",
   "metadata": {
    "slideshow": {
     "slide_type": "slide"
    }
   },
   "outputs": [
    {
     "name": "stdout",
     "output_type": "stream",
     "text": [
      "1.5.2\n"
     ]
    }
   ],
   "source": [
    "import pandas as pd\n",
    "\n",
    "print(pd.__version__)\n",
    "\n"
   ]
  },
  {
   "cell_type": "markdown",
   "id": "0897cb4b",
   "metadata": {
    "slideshow": {
     "slide_type": "slide"
    }
   },
   "source": [
    "## REST API\n",
    "\n",
    "We have the following requirement:\n",
    "\n",
    "As a User I want to:\n",
    "* Create a new TODO item\n",
    "* Updtae an existing TODO item\n",
    "* Get a TODO item\n",
    "* List the TODO items\n",
    "* Delete a TODO item\n",
    "* Mark/unmark a TODO item as done\n",
    "\n",
    "A TODO item consists of:\n",
    "* `id` - primary key, unique\n",
    "* `title` - the title of the item\n",
    "* `body` - the body of the item\n",
    "* `done` - a boolen flag which indicates if the item is done, or not, the default is flase"
   ]
  },
  {
   "cell_type": "code",
   "execution_count": null,
   "id": "6a930300",
   "metadata": {},
   "outputs": [],
   "source": []
  }
 ],
 "metadata": {
  "celltoolbar": "Slideshow",
  "kernelspec": {
   "display_name": "Python 3 (ipykernel)",
   "language": "python",
   "name": "python3"
  },
  "language_info": {
   "codemirror_mode": {
    "name": "ipython",
    "version": 3
   },
   "file_extension": ".py",
   "mimetype": "text/x-python",
   "name": "python",
   "nbconvert_exporter": "python",
   "pygments_lexer": "ipython3",
   "version": "3.9.6"
  }
 },
 "nbformat": 4,
 "nbformat_minor": 5
}
