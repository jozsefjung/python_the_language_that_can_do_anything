{
 "cells": [
  {
   "cell_type": "markdown",
   "id": "b94dde21",
   "metadata": {
    "slideshow": {
     "slide_type": "slide"
    }
   },
   "source": [
    "# Python - The Language That Can Do Anything\n",
    "\n",
    "Intro to Python programming language for non-pythoners."
   ]
  },
  {
   "cell_type": "markdown",
   "id": "36cc219a",
   "metadata": {
    "slideshow": {
     "slide_type": "slide"
    }
   },
   "source": [
    "Some programming languages are just overcomplicated.\n",
    "\n",
    "Here is a simple \"hello, world\" program in Java for example:\n",
    "\n",
    "\n",
    "```java\n",
    "public class HelloWorld {\n",
    "    private static HelloWorld instance;\n",
    "    private String greeting = \"Hello, World!\";\n",
    "\n",
    "    private HelloWorld() { }\n",
    "\n",
    "    public static HelloWorld getInstance() {\n",
    "        if (instance == null) {\n",
    "            instance = new HelloWorld();\n",
    "        }\n",
    "        return instance;\n",
    "    }\n",
    "\n",
    "    public void sayHello() {\n",
    "        System.out.println(greeting);\n",
    "    }\n",
    "\n",
    "    public static void main(String[] args) {\n",
    "        HelloWorld hw = HelloWorld.getInstance();\n",
    "        hw.sayHello();\n",
    "    }\n",
    "}\n",
    "```\n"
   ]
  },
  {
   "cell_type": "markdown",
   "id": "56292abc",
   "metadata": {
    "slideshow": {
     "slide_type": "subslide"
    }
   },
   "source": [
    "In JavaScript we have:\n",
    "\n",
    "|left operand|operator|right operand|result|\n",
    "|------------|--------|-------------|------|\n",
    "|`[]` (empty array)|+|`[]` (empty array)|`\"\"` (empty string)|\n",
    "|`[]` (empty array)|+|`{}` (empty object)|`\"[object Object]\"` (string)|\n",
    "|`false` (boolean)|+|`[]` (empty array)|`\"false\"` (string)|\n",
    "|`\"123\"`(string)|+|`1` (number)|`\"1231\"` (string)|\n",
    "|`\"123\"` (string)|-|`1` (number)|`122` (number)|\n",
    "|`\"123\"` (string)|-|`\"abc\"` (string)|`NaN` (number)|\n",
    "\n",
    "And `{} + []` is `0` (empty code block and an empty array is obviously `0`), but when warpped in brackets, `({} + [])` then it is a string: `\"[object Object]\"`."
   ]
  },
  {
   "cell_type": "markdown",
   "id": "b48f8f0e",
   "metadata": {
    "slideshow": {
     "slide_type": "subslide"
    }
   },
   "source": [
    "C is better:\n",
    "\n",
    "```c\n",
    "#include <stdio.h>\n",
    "\n",
    "int main() {\n",
    "   printf(\"Hello, World!\");\n",
    "   return 0;\n",
    "}\n",
    "```"
   ]
  },
  {
   "cell_type": "markdown",
   "id": "2f003d4d",
   "metadata": {
    "slideshow": {
     "slide_type": "slide"
    }
   },
   "source": [
    "## Python time!"
   ]
  },
  {
   "cell_type": "code",
   "execution_count": 21,
   "id": "948b3227",
   "metadata": {
    "slideshow": {
     "slide_type": "fragment"
    }
   },
   "outputs": [
    {
     "name": "stdout",
     "output_type": "stream",
     "text": [
      "Hello, World!\n"
     ]
    }
   ],
   "source": [
    "print(\"Hello, World!\")"
   ]
  },
  {
   "cell_type": "markdown",
   "id": "bd598e81",
   "metadata": {
    "slideshow": {
     "slide_type": "slide"
    }
   },
   "source": [
    "## Overview\n",
    "\n",
    "* Python is a general purpose, high level programming language, first released in 1991 by Guido van Rossum.\n",
    "* One of the most popular programming languages, currently #1 on TIOBE index.\n",
    "* Used in a wide variety of applications, including web development, scientific computing, data analysis, and artificial intelligence.\n",
    "* Used as a scripting language to automate tasks and as a glue language to connect different software components together.\n",
    "* Readability. Python code is designed to be easy to read and understand, using English keywords and minimal punctuation."
   ]
  },
  {
   "cell_type": "markdown",
   "id": "a67dcc5b",
   "metadata": {
    "slideshow": {
     "slide_type": "slide"
    }
   },
   "source": [
    "## Features\n",
    "\n",
    "* **Interpreted language** - it is ran by an interpreter, the source is not complied.\n",
    "* **Dynamic typing** - the variables have no fixed types and can hold any value.\n",
    "* **Built-in data types** -  a large set of simple and elegant high level data types to hold any kind of data.\n",
    "* **Large standard libary** -  the standard libary is large and comes with variery of packages and modules. Also, the satndard libary includes a powerful unit test framework.\n",
    "* **Variety of programming styles:** \n",
    "  * Object oriented style - the code is formed as a set of classes and methods in them.\n",
    "  * Functional style - every statement is a function. The `functools` module can be utilized to achive this style.\n",
    "  * Procedural style - the program is written as a set of methods which interact with each other."
   ]
  },
  {
   "cell_type": "markdown",
   "id": "778954b9",
   "metadata": {
    "slideshow": {
     "slide_type": "slide"
    }
   },
   "source": [
    "## Code style and syntax\n",
    "\n",
    "* The Python Enhancement Proposal 8 ([PEP-8](https://peps.python.org/pep-0008/)) gives a detailed guide how to format and write the code.\n",
    "* [PEP-20](https://peps.python.org/pep-0020/) describes the zen of Python.\n",
    "* Coments are denoted by `#`.\n",
    "* Indentation and puctation is used to indicate blocks of code.\n",
    "```python\n",
    "if x>2:\n",
    "    print(\"Big number\")\n",
    "```\n",
    "* Lines of code are terminated by the newline character. Multi line code is possible, then the last charecter in the line must be the backslash (`\\`) character.\n",
    "* Variables are defined by their name and an assigned value:\n",
    "```python\n",
    "x = 2\n",
    "```\n",
    "* Functions are defined with the `def` keyword:\n",
    "```python\n",
    "def add(x, y):\n",
    "    return x+y\n",
    "```"
   ]
  },
  {
   "cell_type": "markdown",
   "id": "09216e49",
   "metadata": {
    "slideshow": {
     "slide_type": "subslide"
    }
   },
   "source": [
    "* Classes are defined with the `class` keyword:\n",
    "```python\n",
    "class Person:\n",
    "    def __init__(self, name, age):\n",
    "        self.name = name\n",
    "        self.age = age\n",
    "```\n",
    "```python\n",
    "class Cannibal(Person):\n",
    "    def __init__(self, name, age):\n",
    "        super(name, age)\n",
    "        self.eats_human_flesh = True\n",
    "```"
   ]
  },
  {
   "cell_type": "markdown",
   "id": "6e7a27e2",
   "metadata": {
    "slideshow": {
     "slide_type": "slide"
    }
   },
   "source": [
    "## A typical python project setup\n",
    "\n",
    "* No pre-defined structure is enforced.\n",
    "* Scripts are typically self contained and relie only on the standard python distribution.\n",
    "* When used as a language for a project, the typical project setup looks like this:\n",
    "    ```\n",
    "    <root>\n",
    "      |\n",
    "      +- src/\n",
    "      |   |\n",
    "      |   +-- apps.py\n",
    "      |   +-- utils.py\n",
    "      |   +-- ...\n",
    "      +- tests/ \n",
    "      |   |\n",
    "      |   +-- test_apps.py\n",
    "      |   +-- test_utils.py\n",
    "      |   +-- ...\n",
    "      |\n",
    "      +-- requirements.txt\n",
    "    ```\n",
    "* For complex projects use, create a virtual environemnt before.\n",
    "  * It is a separate python installation which is used only in the given project.\n",
    "* requirements.txt - a file which declares the required libraries for the project.\n"
   ]
  },
  {
   "cell_type": "markdown",
   "id": "ca4954f2",
   "metadata": {
    "slideshow": {
     "slide_type": "slide"
    }
   },
   "source": [
    "# Coding time\n",
    "\n",
    "Enough talking, let's see some examples!"
   ]
  },
  {
   "cell_type": "markdown",
   "id": "67cb0b13",
   "metadata": {
    "slideshow": {
     "slide_type": "slide"
    }
   },
   "source": [
    "## Classification problem\n",
    "\n",
    "* Create a classifier for the Iris dataset\n",
    "* Use Supprt Vector Machines to implement the classification"
   ]
  },
  {
   "cell_type": "code",
   "execution_count": 22,
   "id": "3a6d9b53",
   "metadata": {
    "slideshow": {
     "slide_type": "subslide"
    }
   },
   "outputs": [],
   "source": [
    "# import the necessary libraries\n",
    "import pandas as pd\n",
    "import numpy as np\n",
    "from sklearn import datasets\n",
    "from sklearn.model_selection import train_test_split\n",
    "from sklearn.svm import SVC\n",
    "from sklearn.metrics import accuracy_score"
   ]
  },
  {
   "cell_type": "code",
   "execution_count": 23,
   "id": "8b56f0cd",
   "metadata": {
    "slideshow": {
     "slide_type": "subslide"
    }
   },
   "outputs": [
    {
     "data": {
      "text/html": [
       "<div>\n",
       "<style scoped>\n",
       "    .dataframe tbody tr th:only-of-type {\n",
       "        vertical-align: middle;\n",
       "    }\n",
       "\n",
       "    .dataframe tbody tr th {\n",
       "        vertical-align: top;\n",
       "    }\n",
       "\n",
       "    .dataframe thead th {\n",
       "        text-align: right;\n",
       "    }\n",
       "</style>\n",
       "<table border=\"1\" class=\"dataframe\">\n",
       "  <thead>\n",
       "    <tr style=\"text-align: right;\">\n",
       "      <th></th>\n",
       "      <th>sepal length (cm)</th>\n",
       "      <th>sepal width (cm)</th>\n",
       "      <th>petal length (cm)</th>\n",
       "      <th>petal width (cm)</th>\n",
       "      <th>target</th>\n",
       "    </tr>\n",
       "  </thead>\n",
       "  <tbody>\n",
       "    <tr>\n",
       "      <th>0</th>\n",
       "      <td>5.1</td>\n",
       "      <td>3.5</td>\n",
       "      <td>1.4</td>\n",
       "      <td>0.2</td>\n",
       "      <td>0.0</td>\n",
       "    </tr>\n",
       "    <tr>\n",
       "      <th>1</th>\n",
       "      <td>4.9</td>\n",
       "      <td>3.0</td>\n",
       "      <td>1.4</td>\n",
       "      <td>0.2</td>\n",
       "      <td>0.0</td>\n",
       "    </tr>\n",
       "    <tr>\n",
       "      <th>2</th>\n",
       "      <td>4.7</td>\n",
       "      <td>3.2</td>\n",
       "      <td>1.3</td>\n",
       "      <td>0.2</td>\n",
       "      <td>0.0</td>\n",
       "    </tr>\n",
       "    <tr>\n",
       "      <th>3</th>\n",
       "      <td>4.6</td>\n",
       "      <td>3.1</td>\n",
       "      <td>1.5</td>\n",
       "      <td>0.2</td>\n",
       "      <td>0.0</td>\n",
       "    </tr>\n",
       "    <tr>\n",
       "      <th>4</th>\n",
       "      <td>5.0</td>\n",
       "      <td>3.6</td>\n",
       "      <td>1.4</td>\n",
       "      <td>0.2</td>\n",
       "      <td>0.0</td>\n",
       "    </tr>\n",
       "  </tbody>\n",
       "</table>\n",
       "</div>"
      ],
      "text/plain": [
       "   sepal length (cm)  sepal width (cm)  petal length (cm)  petal width (cm)  \\\n",
       "0                5.1               3.5                1.4               0.2   \n",
       "1                4.9               3.0                1.4               0.2   \n",
       "2                4.7               3.2                1.3               0.2   \n",
       "3                4.6               3.1                1.5               0.2   \n",
       "4                5.0               3.6                1.4               0.2   \n",
       "\n",
       "   target  \n",
       "0     0.0  \n",
       "1     0.0  \n",
       "2     0.0  \n",
       "3     0.0  \n",
       "4     0.0  "
      ]
     },
     "execution_count": 23,
     "metadata": {},
     "output_type": "execute_result"
    }
   ],
   "source": [
    "# Load the dataset and transform it to a dataframe\n",
    "iris = datasets.load_iris()\n",
    "iris_df = pd.DataFrame(\n",
    "    data=np.c_[iris['data'], iris['target']],\n",
    "    columns=iris['feature_names'] + ['target']\n",
    ")\n",
    "iris_df.head()"
   ]
  },
  {
   "cell_type": "code",
   "execution_count": 24,
   "id": "5b83df48",
   "metadata": {
    "slideshow": {
     "slide_type": "subslide"
    }
   },
   "outputs": [
    {
     "data": {
      "image/png": "[encoded data removed]",
      "text/plain": [
       "<Figure size 600x400 with 1 Axes>"
      ]
     },
     "metadata": {},
     "output_type": "display_data"
    }
   ],
   "source": [
    "# Visualize the Iris dataset\n",
    "import matplotlib.pyplot as plt\n",
    "\n",
    "X, y = iris.data, iris.target\n",
    "\n",
    "fig = plt.figure(figsize=(6,4))\n",
    "ax = fig.add_subplot(111, projection='3d')\n",
    "ax.scatter(X[:,0], X[:,1], X[:,2], c=y, cmap=plt.cm.Set1, edgecolor='k')\n",
    "ax.set_xlabel(\"Sepal length\")\n",
    "ax.set_ylabel(\"Sepal width\")\n",
    "ax.set_zlabel(\"Petal length\")\n",
    "plt.show()"
   ]
  },
  {
   "cell_type": "code",
   "execution_count": 25,
   "id": "eb4ccbf5",
   "metadata": {
    "slideshow": {
     "slide_type": "subslide"
    }
   },
   "outputs": [
    {
     "name": "stdout",
     "output_type": "stream",
     "text": [
      "Accuracy: 0.97\n"
     ]
    }
   ],
   "source": [
    "# Split the data into training and test data set\n",
    "X = iris_df.iloc[:, :-1]\n",
    "y = iris_df.iloc[:, -1]\n",
    "X_train, X_test, y_train, y_test = train_test_split(X, y, test_size=0.2, random_state=None)\n",
    "\n",
    "# Initialize and train the SVM\n",
    "clf = SVC(kernel='linear', C=1)\n",
    "clf.fit(X_train, y_train)\n",
    "\n",
    "# Use the trained classifier to predict the labels of the test data\n",
    "y_pred = clf.predict(X_test)\n",
    "\n",
    "# Evaluate the classifier's performance using the accuracy score\n",
    "accuracy = accuracy_score(y_test, y_pred)\n",
    "print(f'Accuracy: {accuracy:.2f}')"
   ]
  },
  {
   "cell_type": "markdown",
   "id": "0897cb4b",
   "metadata": {
    "slideshow": {
     "slide_type": "slide"
    }
   },
   "source": [
    "## REST API for a TODO app\n",
    "\n",
    "We have the following requirement:\n",
    "\n",
    "As a User I want to:\n",
    "* Create a new TODO item\n",
    "* Updtae an existing TODO item\n",
    "* Get a TODO item\n",
    "* List the TODO items\n",
    "* Delete a TODO item\n",
    "* The endpoints are exposed under `/api/todos` path\n",
    "\n",
    "A TODO item consists of:\n",
    "* `id` - primary key, unique\n",
    "* `title` - the title of the item\n",
    "* `body` - the body of the item\n",
    "* `done` - a boolen flag which indicates if the item is done, or not, the default is flase"
   ]
  },
  {
   "cell_type": "markdown",
   "id": "16bece98",
   "metadata": {
    "slideshow": {
     "slide_type": "subslide"
    }
   },
   "source": [
    "### Implementation\n",
    "\n",
    "* Create a folder for the project: `mkdir todo_app`\n",
    "* Create and activate a virtual environemnt inside the folder `cd todo_app && python3 -m venv venv && source venv/bin/activate`\n",
    "* We'll use Flask for it's simplicity, so define the requirements, `requirements.txt`:\n",
    "  ```\n",
    "  flask==2.2.2\n",
    "  flask-sqlalchemy==3.0.2\n",
    "  ```\n",
    "* Install the requirements: `python -m pip install -r requirements`\n",
    "* Create a folder called `src`, and add an empty file `app.py`\n",
    "* Now we can start to implement the API"
   ]
  },
  {
   "cell_type": "markdown",
   "id": "a2964afa",
   "metadata": {
    "slideshow": {
     "slide_type": "subslide"
    }
   },
   "source": [
    "#### app.py\n",
    "\n",
    "```python\n",
    "# Import the required modules\n",
    "from flask import Flask, request\n",
    "from flask_sqlalchemy import SQLAlchemy\n",
    "\n",
    "# Configure the Flask app, set up a connection to DB\n",
    "app = Flask(__name__)\n",
    "app.config['SQLALCHEMY_DATABASE_URI'] = 'sqlite:///db.sqlite3'\n",
    "app.config['SQLALCHEMY_TRACK_MODIFICATIONS'] = False\n",
    "db = SQLAlchemy()\n",
    "db.init_app(app)\n",
    "\n",
    "# Model\n",
    "\n",
    "# Handlers\n",
    "\n",
    "\n",
    "# Add entry point\n",
    "if __name__ == '__main__':\n",
    "    with app.app_context():\n",
    "        db.create_all()\n",
    "    app.run(debug=True, port=8000)\n",
    "```\n",
    "\n",
    "We have the skeleton, let's extend it."
   ]
  },
  {
   "cell_type": "markdown",
   "id": "dc5ffec8",
   "metadata": {
    "slideshow": {
     "slide_type": "subslide"
    }
   },
   "source": [
    "#### define the todo model\n",
    "\n",
    "```python\n",
    "# Model\n",
    "\n",
    "class TodoItem(db.Model):\n",
    "    id = db.Column(db.Integer, primary_key=True)\n",
    "    title = db.Column(db.String(80), nullable=False)\n",
    "    description = db.Column(db.String(120), nullable=False)\n",
    "    done = db.Column(db.Boolean, default=False)\n",
    "\n",
    "    def as_dict(self):\n",
    "        return {c.name: getattr(self, c.name) for c in self.__table__.columns}\n",
    "```"
   ]
  },
  {
   "cell_type": "markdown",
   "id": "e091a850",
   "metadata": {
    "slideshow": {
     "slide_type": "subslide"
    }
   },
   "source": [
    "#### define the handlers\n",
    "\n",
    "```python\n",
    "# Handlers\n",
    "@app.route('/api/todos', methods=['GET', 'POST'])\n",
    "def get_or_create_todo_items():\n",
    "    if request.method == 'GET':\n",
    "        return [i.as_dict() for i in TodoItem.query.all()]\n",
    "    elif request.method == 'POST':\n",
    "        data = request.get_json()\n",
    "        if not data:\n",
    "            return {'error': 'No data provided'}, 400\n",
    "        if not data.get('title'):\n",
    "            return {'error': 'No title provided'}, 400\n",
    "        if not data.get('description'):\n",
    "            return {'error': 'No description provided'}, 400\n",
    "\n",
    "        data = {k: v for k, v in data.items() if k in TodoItem.__table__.columns.keys()}\n",
    "        todo_item = TodoItem(title=data['title'], description=data['description'], done=data.get('done', False))\n",
    "        db.session.add(todo_item)\n",
    "        db.session.commit()\n",
    "        return todo_item.as_dict()\n",
    "\n",
    "```"
   ]
  },
  {
   "cell_type": "markdown",
   "id": "4e6e89ba",
   "metadata": {
    "slideshow": {
     "slide_type": "subslide"
    }
   },
   "source": [
    "```python\n",
    "@app.route('/api/todos/<int:todo_id>', methods=['GET', 'PUT', 'DELETE'])\n",
    "def manage_todo_item(todo_id: int):\n",
    "    todo = db.session.get(TodoItem, todo_id)\n",
    "    if todo is None:\n",
    "        return {'error': 'Todo item not found'}, 404\n",
    "    if request.method == 'GET':\n",
    "        return todo.as_dict()\n",
    "    elif request.method == 'PUT':\n",
    "        data = request.get_json()\n",
    "        todo.title = data.get('title', todo.title)\n",
    "        todo.description = data.get('description', todo.description)\n",
    "        todo.done = data.get('done', todo.done)\n",
    "        db.session.commit()\n",
    "        return todo.as_dict()\n",
    "    elif request.method == 'DELETE':\n",
    "        db.session.delete(todo)\n",
    "        db.session.commit()\n",
    "        return '', 204\n",
    "```"
   ]
  },
  {
   "cell_type": "markdown",
   "id": "3399b4fb",
   "metadata": {
    "slideshow": {
     "slide_type": "subslide"
    }
   },
   "source": [
    "* Run the app:\n",
    "```\n",
    "> python app.py\n",
    " * Serving Flask app 'app'\n",
    " * Debug mode: on\n",
    "WARNING: This is a development server. Do not use it in a production deployment. Use a production WSGI server instead.\n",
    " * Running on http://127.0.0.1:8000\n",
    "Press CTRL+C to quit\n",
    " * Restarting with stat\n",
    " * Debugger is active!\n",
    " * Debugger PIN: 531-433-521\n",
    "```\n",
    "* Now the endpoints can be accessed"
   ]
  },
  {
   "cell_type": "markdown",
   "id": "61422492",
   "metadata": {
    "slideshow": {
     "slide_type": "slide"
    }
   },
   "source": [
    "## Streaming files\n",
    "\n",
    "* From a given set of image files, an animation has to be streamed\n",
    "* A music should be played alongside the animation\n",
    "\n",
    "We'll use the \"Bad Apple\" animation for this. Do you know what is this?\n",
    "\n",
    "* The files are in `assets` directory, named `frame0.png`, `frame1.png`, ..., `frame6571.png`\n",
    "* The music is in the same folder, named `music.mp3`"
   ]
  },
  {
   "cell_type": "markdown",
   "id": "4e3e5341",
   "metadata": {
    "slideshow": {
     "slide_type": "subslide"
    }
   },
   "source": [
    "### Implementation\n",
    "\n",
    "* The project setup is similar to the previous example\n",
    "* The library `PyGame` will be used to implement the animation\n",
    "* The streaming will utilize a generator to load the frame which has to be displayed"
   ]
  },
  {
   "cell_type": "markdown",
   "id": "90134283",
   "metadata": {
    "slideshow": {
     "slide_type": "subslide"
    }
   },
   "source": [
    "* Create a file named `bad_apple.py`\n",
    "* Define the frame class:\n",
    "```python\n",
    "import pygame as pg\n",
    "```\n",
    "```python\n",
    "class Frame:\n",
    "    def __init__(self, fn, image, rect):\n",
    "        self.frame_number = fn\n",
    "        self.image = image\n",
    "        self.rect = rect\n",
    "\n",
    "    def draw(self, surface: pg.Surface):\n",
    "        surface.blit(self.image, self.rect)\n",
    "```"
   ]
  },
  {
   "cell_type": "markdown",
   "id": "bd59aebc",
   "metadata": {
    "slideshow": {
     "slide_type": "subslide"
    }
   },
   "source": [
    "* Define the animation class:\n",
    "```python\n",
    "class Animation:\n",
    "    def __init__(self, frame_name_pattern: str, number_of_frames: int, music: str):\n",
    "        self.frame_name_pattern = frame_name_pattern\n",
    "        self.number_of_frames = number_of_frames\n",
    "        self.frames = self.load_frames()\n",
    "        pg.mixer.music.load(music)\n",
    "        self.current_frame = next(self.frames)\n",
    "        self.frame_font = pg.font.SysFont(None, 36)  # noqa\n",
    "        self.end_font = pg.font.SysFont(None, 144)  # noqa\n",
    "        self.end = False\n",
    "```"
   ]
  },
  {
   "cell_type": "markdown",
   "id": "c52b32f9",
   "metadata": {
    "slideshow": {
     "slide_type": "subslide"
    }
   },
   "source": [
    "* Define the function in the class which loads the frames:\n",
    "```python\n",
    "    def load_frames(self):\n",
    "        for i in range(self.number_of_frames):\n",
    "            yield Frame(\n",
    "                i,\n",
    "                pg.image.load(self.frame_name_pattern.format(i)),\n",
    "                pg.Rect(0, 0, 960, 720),\n",
    "            )\n",
    "```"
   ]
  },
  {
   "cell_type": "markdown",
   "id": "a432e850",
   "metadata": {
    "slideshow": {
     "slide_type": "subslide"
    }
   },
   "source": [
    "* Define the draw function:\n",
    "```python\n",
    "    def draw(self, screen):\n",
    "        if self.end:\n",
    "            pg.mixer.music.stop()\n",
    "            img = self.end_font.render(\"Pitanja?\", True, pg.Color(\"white\"))\n",
    "            screen.blit(img, (480 - img.get_width() // 2, 360 - img.get_height() // 2))\n",
    "            return\n",
    "\n",
    "        try:\n",
    "            if not pg.mixer.music.get_busy():\n",
    "                pg.mixer.music.play()\n",
    "            self.current_frame.draw(screen)\n",
    "            screen.blit(\n",
    "                self.frame_font.render(\n",
    "                    f\"Frame {self.current_frame.frame_number}\", True, pg.Color(\"red\")\n",
    "                ),\n",
    "                (10, 10),\n",
    "            )\n",
    "            self.current_frame = next(self.frames)\n",
    "        except StopIteration:\n",
    "            pg.mixer.music.stop()\n",
    "            self.end = True\n",
    "```"
   ]
  },
  {
   "cell_type": "markdown",
   "id": "abec6db6",
   "metadata": {
    "slideshow": {
     "slide_type": "subslide"
    }
   },
   "source": [
    "* The main loop which executes the program:\n",
    "```python\n",
    "def main():\n",
    "    pg.init()\n",
    "    pg.mixer.init()\n",
    "    screen = pg.display.set_mode((960, 720), flags=pg.HWSURFACE | pg.DOUBLEBUF, vsync=1)\n",
    "    running = True\n",
    "    clock = pg.time.Clock()\n",
    "    animation = Animation(\"assets/frame{}.png\", 6571, \"assets/music.mp3\")\n",
    "    while running:\n",
    "        for event in pg.event.get():\n",
    "            if event.type == pg.QUIT:\n",
    "                running = False\n",
    "        screen.fill(pg.Color(\"black\"))\n",
    "        animation.draw(screen)\n",
    "        pg.display.flip()\n",
    "        clock.tick(31)\n",
    "```\n",
    "```python\n",
    "if __name__ == \"__main__\":\n",
    "    main()\n",
    "```"
   ]
  },
  {
   "cell_type": "markdown",
   "id": "cef66837",
   "metadata": {
    "slideshow": {
     "slide_type": "subslide"
    }
   },
   "source": [
    "* Run the program\n",
    "```\n",
    "python bad_apple.py\n",
    "```"
   ]
  },
  {
   "cell_type": "markdown",
   "id": "7c05284a",
   "metadata": {
    "slideshow": {
     "slide_type": "slide"
    }
   },
   "source": [
    "# The end - next time choose Python"
   ]
  }
 ],
 "metadata": {
  "celltoolbar": "Slideshow",
  "kernelspec": {
   "display_name": "Python 3 (ipykernel)",
   "language": "python",
   "name": "python3"
  },
  "language_info": {
   "codemirror_mode": {
    "name": "ipython",
    "version": 3
   },
   "file_extension": ".py",
   "mimetype": "text/x-python",
   "name": "python",
   "nbconvert_exporter": "python",
   "pygments_lexer": "ipython3",
   "version": "3.9.6"
  }
 },
 "nbformat": 4,
 "nbformat_minor": 5
}
